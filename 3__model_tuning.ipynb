{
  "cells": [
    {
      "cell_type": "markdown",
      "source": [
        "# Tuning the model\n",
        "\n",
        "Place all scalings of the features into the model, then use stepwise_selection() and calculate_vif() to determine the best features to include in our model\n"
      ],
      "metadata": {
        "collapsed": false,
        "id": "VWFJ1TYQ7T7u"
      }
    },
    {
      "cell_type": "code",
      "execution_count": null,
      "outputs": [],
      "source": [
        "import pandas as pd\n",
        "import numpy as np\n",
        "import statsmodels.api as sm\n",
        "import statsmodels.tools\n",
        "\n",
        "from sklearn.model_selection import train_test_split\n",
        "from sklearn.preprocessing import RobustScaler, MaxAbsScaler, PowerTransformer, Normalizer, MinMaxScaler\n",
        "from statsmodels.stats.outliers_influence import variance_inflation_factor\n"
      ],
      "metadata": {
        "ExecuteTime": {
          "end_time": "2023-07-10T14:54:15.924410Z",
          "start_time": "2023-07-10T14:54:15.832305400Z"
        },
        "id": "zsSpkAHP7T7y"
      }
    },
    {
      "cell_type": "markdown",
      "source": [
        "All of these scaling methods add a column to the dataframe for each feature they scale. The original columns are all kept in.\n",
        "The workings of the functions are explained by comments in only the first function robust_scaling(), as each function has similar syntax and functionality"
      ],
      "metadata": {
        "collapsed": false,
        "id": "eteXvxIs7T7z"
      }
    },
    {
      "cell_type": "code",
      "execution_count": null,
      "outputs": [],
      "source": [
        "def robust_scaling(df):\n",
        "\n",
        "    possible_scalings =['adult_mortality', 'hepatitis_b', 'measles', 'bmi', 'under_five_deaths', 'polio',\n",
        "                        'diphtheria', 'gdp_per_capita', 'population_mln', 'thinness_ten_nineteen_years',\n",
        "                        'thinness_five_nine_years']\n",
        "\n",
        "    #prevents the function from trying to scale features not in df\n",
        "    features = [feature for feature in possible_scalings if feature in list(df.columns)]\n",
        "\n",
        "\n",
        "    df_rob = df[features]\n",
        "    #turn list elements to floats\n",
        "    df_rob = df_rob.astype(float)\n",
        "\n",
        "    #create scalar object and fit it to features\n",
        "    rob = RobustScaler()\n",
        "    rob.fit(df_rob)\n",
        "\n",
        "    #transform the features into a new DataFrame df_scaled\n",
        "    df_scaled = pd.DataFrame(rob.transform(df_rob),columns=[col + '_rob' for col in df_rob.columns])\n",
        "\n",
        "    #join the scaled df to the original df at the correct index\n",
        "    df_scaled['index'] = df.index\n",
        "    df_scaled = df_scaled.join(df, on='index')\n",
        "    df_scaled.set_index('index', inplace=True)\n",
        "\n",
        "    return df_scaled"
      ],
      "metadata": {
        "ExecuteTime": {
          "end_time": "2023-07-10T14:27:36.504417600Z",
          "start_time": "2023-07-10T14:27:36.462530800Z"
        },
        "id": "BaEWssOA7T70"
      }
    },
    {
      "cell_type": "code",
      "execution_count": null,
      "outputs": [],
      "source": [
        "def max_abs(df):\n",
        "\n",
        "    max_abs = MaxAbsScaler()\n",
        "\n",
        "    maxabs_columns = df[['adult_mortality', 'incidents_hiv', 'gdp_per_capita', 'population_mln']].copy()\n",
        "\n",
        "    max_abs.fit(maxabs_columns)\n",
        "\n",
        "    df_scaled_ma = pd.DataFrame(max_abs.transform(maxabs_columns), columns=[col + '_ma' for col in maxabs_columns.columns])\n",
        "\n",
        "    df_scaled_ma['index'] = df.index\n",
        "\n",
        "    df_scaled_ma = df_scaled_ma.join(df, on='index')\n",
        "    df_scaled_ma.set_index('index', inplace=True)\n",
        "\n",
        "    return df_scaled_ma"
      ],
      "metadata": {
        "ExecuteTime": {
          "end_time": "2023-07-10T14:26:59.684994Z",
          "start_time": "2023-07-10T14:26:59.472180Z"
        },
        "id": "BoZ19DLQ7T71"
      }
    },
    {
      "cell_type": "code",
      "execution_count": null,
      "outputs": [],
      "source": [
        "def power_transform(df):\n",
        "\n",
        "    pt = PowerTransformer()\n",
        "\n",
        "    pt_columns = df[['infant_deaths', 'under_five_deaths', 'adult_mortality', 'alcohol_consumption', 'hepatitis_b', 'measles', 'polio', 'diphtheria', 'incidents_hiv', 'gdp_per_capita', 'population_mln', 'thinness_ten_nineteen_years', 'thinness_five_nine_years', 'economy_status_developed', 'economy_status_developing']].copy()\n",
        "    pt.fit(pt_columns)\n",
        "\n",
        "    df_scaled_pt = pd.DataFrame(pt.transform(pt_columns), columns=[col + '_pt' for col in pt_columns.columns])\n",
        "\n",
        "    df_scaled_pt['index'] = df.index\n",
        "\n",
        "    df_scaled_pt = df_scaled_pt.join(df, on='index')\n",
        "    df_scaled_pt.set_index('index', inplace=True)\n",
        "\n",
        "    return df_scaled_pt"
      ],
      "metadata": {
        "ExecuteTime": {
          "end_time": "2023-07-10T14:26:59.872214Z",
          "start_time": "2023-07-10T14:26:59.689011300Z"
        },
        "id": "4vSQ1jfa7T71"
      }
    },
    {
      "cell_type": "code",
      "execution_count": null,
      "outputs": [],
      "source": [
        "def normaliser(df):\n",
        "    normalizer = Normalizer()\n",
        "\n",
        "    norm_cols = df[['year', 'infant_deaths', 'under_five_deaths','adult_mortality', 'alcohol_consumption', 'hepatitis_b', 'measles','bmi', 'polio', 'diphtheria', 'incidents_hiv', 'gdp_per_capita',\n",
        "                    'population_mln', 'thinness_ten_nineteen_years','thinness_five_nine_years', 'schooling', 'economy_status_developed','economy_status_developing']].copy()\n",
        "\n",
        "    normalizer.fit(norm_cols)\n",
        "    df_norm_scale = pd.DataFrame(normalizer.transform(norm_cols), columns=[columns + '_normed' for columns in norm_cols.columns])\n",
        "\n",
        "    df_norm_scale['index'] = df.index\n",
        "\n",
        "    df_norm_scale = df_norm_scale.join(df, on='index')\n",
        "    df_norm_scale.set_index('index', inplace=True)\n",
        "\n",
        "    return df_norm_scale"
      ],
      "metadata": {
        "ExecuteTime": {
          "end_time": "2023-07-10T14:27:00.060162400Z",
          "start_time": "2023-07-10T14:26:59.877200700Z"
        },
        "id": "LZiBdIQC7T72"
      }
    },
    {
      "cell_type": "code",
      "execution_count": null,
      "outputs": [],
      "source": [
        "def min_max(df):\n",
        "\n",
        "    mm_scaler = MinMaxScaler()\n",
        "\n",
        "    mm_cols = df[['year', 'infant_deaths', 'under_five_deaths','adult_mortality', 'alcohol_consumption', 'hepatitis_b', 'measles','bmi', 'polio', 'diphtheria', 'incidents_hiv', 'gdp_per_capita',\n",
        "                  'population_mln', 'thinness_ten_nineteen_years','thinness_five_nine_years', 'schooling', 'economy_status_developed','economy_status_developing']].copy()\n",
        "\n",
        "    mm_scaler.fit(mm_cols)\n",
        "\n",
        "    df_min_max = pd.DataFrame(mm_scaler.transform(mm_cols), columns=[columns + '_min_max' for columns in mm_cols.columns])\n",
        "\n",
        "    df_min_max['index'] = df.index\n",
        "\n",
        "    df_min_max = df_min_max.join(df, on='index')\n",
        "    df_min_max.set_index('index', inplace=True)\n",
        "\n",
        "    return df_min_max"
      ],
      "metadata": {
        "ExecuteTime": {
          "end_time": "2023-07-10T14:27:00.249558700Z",
          "start_time": "2023-07-10T14:27:00.065147300Z"
        },
        "id": "CgQXf8zv7T73"
      }
    },
    {
      "cell_type": "code",
      "execution_count": null,
      "outputs": [],
      "source": [
        "def cleaning(df):\n",
        "\n",
        "    # Making all columns be formatted the same (stripped, lowercase, spacing, underscores in the middle)\n",
        "    clean_cols = list(df.columns)\n",
        "    new_cols = []\n",
        "    for col in clean_cols:\n",
        "        new_cols.append(col.strip().replace('  ', ' ').replace(' ', '').lower())\n",
        "    df.columns = new_cols\n",
        "\n",
        "    # implementing some mapping and cleaning of nulls\n",
        "    # People cannot survive with BMI's of <10 or >50. To believe that that would represent an entire population is wrong.\n",
        "    df['bmi'] = df.apply(lambda x: np.nan if (x.bmi < 10 or x.bmi > 50) else x.bmi, axis=1)\n",
        "\n",
        "    # 0 infant deaths for a country in a year is unrealistic\n",
        "    df['infant_deaths'] = df['infant_deaths'].replace(0, np.nan)\n",
        "\n",
        "    # 0 under-five deaths for a country in a year is also unrealistic\n",
        "    df['under_five_deaths'] = df['under_five_deaths'].replace(0, np.nan)\n",
        "\n",
        "    return df"
      ],
      "metadata": {
        "ExecuteTime": {
          "end_time": "2023-07-10T14:27:00.478895500Z",
          "start_time": "2023-07-10T14:27:00.251553100Z"
        },
        "id": "vCooJ-gn7T73"
      }
    },
    {
      "cell_type": "code",
      "execution_count": null,
      "outputs": [],
      "source": [
        "def stepwise_selection(X, y, threshold_in = 0.01, threshold_out = 0.05, verbose = True):\n",
        "    # The function is checking for p-values (whether features are statistically significant) - lower is better\n",
        "    included = [] # this is going to be the list of features we keep\n",
        "    while True:\n",
        "        changed = False\n",
        "        # forward step\n",
        "        excluded = list(set(X.columns) - set(included))\n",
        "        new_pval = pd.Series(index = excluded, dtype = 'float64')\n",
        "        for new_column in excluded:\n",
        "            model = sm.OLS(y, sm.add_constant(pd.DataFrame(X[included + [new_column]]))).fit()\n",
        "            new_pval[new_column] = model.pvalues[new_column]\n",
        "        best_pval = new_pval.min()\n",
        "        # we add the feature with the lowest (best) p-value under the threshold to our 'included' list\n",
        "        if best_pval < threshold_in:\n",
        "            best_feature = new_pval.idxmin()\n",
        "            included.append(best_feature)\n",
        "            changed = True\n",
        "            if verbose:\n",
        "                print('Add  {:30} with p-value {:.6}'.format(best_feature, best_pval)) # specifying the verbose text\n",
        "\n",
        "\n",
        "        # backward step: removing features if new features added to the list make them statistically insignificant\n",
        "        model = sm.OLS(y, sm.add_constant(pd.DataFrame(X[included]))).fit()\n",
        "\n",
        "        # use all coefs except intercept\n",
        "        pvalues = model.pvalues.iloc[1:]\n",
        "        worst_pval = pvalues.max() # null if pvalues is empty\n",
        "        # if the p-value exceeds the upper threshold, the feature will be dropped from the 'included' list\n",
        "        if worst_pval > threshold_out:\n",
        "            changed = True\n",
        "            worst_feature = pvalues.idxmax()\n",
        "            included.remove(worst_feature)\n",
        "            if verbose:\n",
        "                print('Drop {:30} with p-value {:.6}'.format(worst_feature, worst_pval))\n",
        "        if not changed:\n",
        "            break\n",
        "    return included"
      ],
      "metadata": {
        "ExecuteTime": {
          "end_time": "2023-07-10T14:27:00.739727300Z",
          "start_time": "2023-07-10T14:27:00.484880300Z"
        },
        "id": "nSLhs6a-7T74"
      }
    },
    {
      "cell_type": "code",
      "execution_count": null,
      "outputs": [],
      "source": [
        "def step_testing():\n",
        "\n",
        "    df = pd.read_csv(\"sample_data/Life_Expectancy_Data_Updated.csv\")\n",
        "\n",
        "    features = ['year', 'infant_deaths', 'under_five_deaths',\n",
        "                 'adult_mortality', 'alcohol_consumption', 'hepatitis_b', 'measles',\n",
        "                 'bmi', 'polio', 'diphtheria', 'incidents_hiv', 'gdp_per_capita',\n",
        "                 'population_mln', 'thinness_ten_nineteen_years',\n",
        "                 'thinness_five_nine_years', 'schooling', 'economy_status_developed',\n",
        "                 'economy_status_developing']\n",
        "\n",
        "    df_clean = cleaning(df)\n",
        "\n",
        "    X_train, X_test, y_train, y_test = train_test_split(df[features],df['life_expectancy'],test_size = 0.2, random_state = 63)\n",
        "    #-----------------------------------------------\n",
        "\n",
        "    #add columns for each scaling\n",
        "    X_train_fe = robust_scaling(X_train)\n",
        "    X_train_fe = max_abs(X_train_fe)\n",
        "    X_train_fe = power_transform(X_train_fe)\n",
        "    X_train_fe = normaliser(X_train_fe)\n",
        "    X_train_fe = min_max(X_train_fe)\n",
        "\n",
        "    X_test_fe = robust_scaling(X_test)\n",
        "\n",
        "\n",
        "    #----------------------------------------------\n",
        "    results = stepwise_selection(X_train_fe, y_train)\n",
        "\n",
        "\n",
        "    #run model with rows outputted from stepwise\n",
        "    X_train_fe = sm.add_constant(X_train_fe[results])\n",
        "    lin_reg = sm.OLS(y_train, X_train_fe)\n",
        "    model = lin_reg.fit()\n",
        "    print(model.summary())\n",
        "    y_pred = model.predict(X_train_fe)\n",
        "    rmse = statsmodels.tools.eval_measures.rmse(y_train, y_pred)\n",
        "    print(f\"RMSE value of {rmse}\")\n",
        "\n",
        "\n",
        "    pass"
      ],
      "metadata": {
        "ExecuteTime": {
          "end_time": "2023-07-10T14:27:42.281045200Z",
          "start_time": "2023-07-10T14:27:42.268052100Z"
        },
        "id": "TD1nUIOM7T75"
      }
    },
    {
      "cell_type": "code",
      "execution_count": null,
      "outputs": [],
      "source": [
        "# calling the above function\n",
        "\n",
        "step_testing()"
      ],
      "metadata": {
        "ExecuteTime": {
          "end_time": "2023-07-10T14:28:11.780283400Z",
          "start_time": "2023-07-10T14:27:42.507527900Z"
        },
        "id": "upAFhAGW7T76"
      }
    },
    {
      "cell_type": "code",
      "execution_count": null,
      "outputs": [],
      "source": [
        "def calculate_vif(X, thresh = 5.0):\n",
        "    variables = list(range(X.shape[1]))\n",
        "    dropped = True\n",
        "    while dropped:\n",
        "        dropped = False\n",
        "        # this bit uses list comprehension to gather all the VIF values of the different variables\n",
        "        vif = [variance_inflation_factor(X.iloc[:, variables].values, ix)\n",
        "               for ix in range(X.iloc[:, variables].shape[1])]\n",
        "\n",
        "        maxloc = vif.index(max(vif)) # getting the index of the highest VIF value\n",
        "        if max(vif) > thresh:\n",
        "            print('dropping \\'' + X.iloc[:, variables].columns[maxloc] +\n",
        "                  '\\' at index: ' + str(maxloc))\n",
        "            del variables[maxloc] # we delete the highest VIF value on condition that it's higher than the threshold\n",
        "            dropped = True # if we deleted anything, we set the 'dropped' value to True to stay in the while loop\n",
        "\n",
        "    print('Remaining variables:')\n",
        "    print(X.columns[variables]) # finally, we print the variables that are still in our set\n",
        "    print(vif)\n",
        "    return X.iloc[:, variables] # and return our X cut down to the remaining variables"
      ],
      "metadata": {
        "ExecuteTime": {
          "end_time": "2023-07-10T14:28:36.953654500Z",
          "start_time": "2023-07-10T14:28:36.936697900Z"
        },
        "id": "xZgusNsQ7T77"
      }
    },
    {
      "cell_type": "code",
      "execution_count": null,
      "outputs": [],
      "source": [
        "def vif_testing():\n",
        "    df = pd.read_csv(\"sample_data/Life_Expectancy_Data_Updated.csv\")\n",
        "\n",
        "    features = ['year', 'infant_deaths', 'under_five_deaths',\n",
        "                'adult_mortality', 'alcohol_consumption', 'hepatitis_b', 'measles',\n",
        "                'bmi', 'polio', 'diphtheria', 'incidents_hiv', 'gdp_per_capita',\n",
        "                'population_mln', 'thinness_ten_nineteen_years',\n",
        "                'thinness_five_nine_years', 'schooling', 'economy_status_developed',\n",
        "                'economy_status_developing']\n",
        "\n",
        "    df_clean = cleaning(df)\n",
        "\n",
        "    X_train, X_test, y_train, y_test = train_test_split(df[features],df['life_expectancy'],test_size = 0.2, random_state = 63)\n",
        "    #-----------------------------------------------\n",
        "\n",
        "    #add specific scaling methods\n",
        "    #output X_train_fe, X_test_fe\n",
        "    X_train_fe = X_train\n",
        "    X_train_fe = robust_scaling(X_train)\n",
        "    X_train_fe = max_abs(X_train_fe)\n",
        "    X_train_fe = power_transform(X_train_fe)\n",
        "    X_train_fe = normaliser(X_train_fe)\n",
        "    X_train_fe = min_max(X_train_fe)\n",
        "\n",
        "    X_test_fe = robust_scaling(X_test)\n",
        "\n",
        "\n",
        "    #----------------------------------------------\n",
        "    X_train_vif = calculate_vif(X_train_fe)\n",
        "\n",
        "\n",
        "    #run model with rows outputted from stepwise\n",
        "\n",
        "    X_train_fe = sm.add_constant(X_train_vif)\n",
        "\n",
        "    lin_reg = sm.OLS(y_train, X_train_fe)\n",
        "    model = lin_reg.fit()\n",
        "    print(model.summary())\n",
        "    y_pred = model.predict(X_train_fe)\n",
        "    rmse = statsmodels.tools.eval_measures.rmse(y_train, y_pred)\n",
        "    print(f\"RMSE value of {rmse}\")"
      ],
      "metadata": {
        "ExecuteTime": {
          "end_time": "2023-07-10T14:28:37.270136400Z",
          "start_time": "2023-07-10T14:28:37.225083900Z"
        },
        "id": "nolRb0Mc7T77"
      }
    },
    {
      "cell_type": "code",
      "execution_count": null,
      "outputs": [
        {
          "name": "stderr",
          "output_type": "stream",
          "text": [
            "C:\\Users\\James\\anaconda3\\lib\\site-packages\\statsmodels\\stats\\outliers_influence.py:193: RuntimeWarning: divide by zero encountered in double_scalars\n",
            "  vif = 1. / (1. - r_squared_i)\n"
          ]
        },
        {
          "name": "stdout",
          "output_type": "stream",
          "text": [
            "dropping 'year_min_max' at index: 0\n",
            "dropping 'infant_deaths_min_max' at index: 0\n",
            "dropping 'under_five_deaths_min_max' at index: 0\n",
            "dropping 'adult_mortality_min_max' at index: 0\n",
            "dropping 'alcohol_consumption_min_max' at index: 0\n",
            "dropping 'hepatitis_b_min_max' at index: 0\n",
            "dropping 'measles_min_max' at index: 0\n",
            "dropping 'bmi_min_max' at index: 0\n",
            "dropping 'polio_min_max' at index: 0\n",
            "dropping 'diphtheria_min_max' at index: 0\n",
            "dropping 'incidents_hiv_min_max' at index: 0\n",
            "dropping 'gdp_per_capita_min_max' at index: 0\n",
            "dropping 'population_mln_min_max' at index: 0\n",
            "dropping 'thinness_ten_nineteen_years_min_max' at index: 0\n",
            "dropping 'thinness_five_nine_years_min_max' at index: 0\n",
            "dropping 'schooling_min_max' at index: 0\n",
            "dropping 'economy_status_developed_min_max' at index: 0\n",
            "dropping 'economy_status_developing_min_max' at index: 0\n",
            "dropping 'economy_status_developed_pt' at index: 31\n",
            "dropping 'economy_status_developing_pt' at index: 31\n",
            "dropping 'adult_mortality_ma' at index: 31\n",
            "dropping 'incidents_hiv_ma' at index: 31\n",
            "dropping 'gdp_per_capita_ma' at index: 31\n",
            "dropping 'population_mln_ma' at index: 31\n",
            "dropping 'adult_mortality_rob' at index: 31\n",
            "dropping 'hepatitis_b_rob' at index: 31\n",
            "dropping 'measles_rob' at index: 31\n",
            "dropping 'bmi_rob' at index: 31\n",
            "dropping 'under_five_deaths_rob' at index: 31\n",
            "dropping 'polio_rob' at index: 31\n",
            "dropping 'diphtheria_rob' at index: 31\n",
            "dropping 'gdp_per_capita_rob' at index: 31\n",
            "dropping 'population_mln_rob' at index: 31\n",
            "dropping 'thinness_ten_nineteen_years_rob' at index: 31\n",
            "dropping 'thinness_five_nine_years_rob' at index: 31\n",
            "dropping 'economy_status_developing' at index: 48\n",
            "dropping 'year_normed' at index: 0\n",
            "dropping 'infant_deaths' at index: 31\n",
            "dropping 'year' at index: 30\n",
            "dropping 'polio' at index: 36\n",
            "dropping 'diphtheria' at index: 36\n",
            "dropping 'thinness_ten_nineteen_years' at index: 39\n",
            "dropping 'economy_status_developing_normed' at index: 16\n",
            "dropping 'under_five_deaths_pt' at index: 17\n",
            "dropping 'adult_mortality' at index: 29\n",
            "dropping 'bmi' at index: 32\n",
            "dropping 'measles' at index: 31\n",
            "dropping 'diphtheria_normed' at index: 8\n",
            "dropping 'hepatitis_b' at index: 29\n",
            "dropping 'under_five_deaths_normed' at index: 1\n",
            "dropping 'bmi_normed' at index: 5\n",
            "dropping 'thinness_five_nine_years_normed' at index: 10\n",
            "dropping 'polio_normed' at index: 5\n",
            "dropping 'gdp_per_capita_normed' at index: 6\n",
            "dropping 'infant_deaths_normed' at index: 0\n",
            "dropping 'schooling' at index: 27\n",
            "dropping 'adult_mortality_normed' at index: 0\n",
            "dropping 'thinness_five_nine_years' at index: 25\n",
            "dropping 'hepatitis_b_normed' at index: 1\n",
            "dropping 'alcohol_consumption' at index: 20\n",
            "dropping 'measles_normed' at index: 1\n",
            "dropping 'thinness_ten_nineteen_years_pt' at index: 16\n",
            "dropping 'infant_deaths_pt' at index: 6\n",
            "dropping 'diphtheria_pt' at index: 11\n",
            "dropping 'economy_status_developed' at index: 19\n",
            "dropping 'incidents_hiv' at index: 16\n",
            "dropping 'population_mln_normed' at index: 2\n",
            "dropping 'gdp_per_capita_pt' at index: 11\n",
            "dropping 'under_five_deaths' at index: 13\n",
            "dropping 'alcohol_consumption_normed' at index: 0\n",
            "Remaining variables:\n",
            "Index(['incidents_hiv_normed', 'thinness_ten_nineteen_years_normed',\n",
            "       'schooling_normed', 'economy_status_developed_normed',\n",
            "       'adult_mortality_pt', 'alcohol_consumption_pt', 'hepatitis_b_pt',\n",
            "       'measles_pt', 'polio_pt', 'incidents_hiv_pt', 'population_mln_pt',\n",
            "       'thinness_five_nine_years_pt', 'gdp_per_capita', 'population_mln'],\n",
            "      dtype='object')\n",
            "[2.031451137382217, 4.5033357443153115, 2.28096399709363, 1.6126346693073796, 4.760574912201317, 1.9248349843499692, 2.904483628569774, 1.8634809639955818, 3.878839981054544, 2.998818229595756, 1.3643821584289764, 2.8912907382839856, 2.655456819942473, 1.4475075346823132]\n",
            "                            OLS Regression Results                            \n",
            "==============================================================================\n",
            "Dep. Variable:        life_expectancy   R-squared:                       0.935\n",
            "Model:                            OLS   Adj. R-squared:                  0.934\n",
            "Method:                 Least Squares   F-statistic:                     2331.\n",
            "Date:                Mon, 10 Jul 2023   Prob (F-statistic):               0.00\n",
            "Time:                        15:29:58   Log-Likelihood:                -5262.9\n",
            "No. Observations:                2291   AIC:                         1.056e+04\n",
            "Df Residuals:                    2276   BIC:                         1.064e+04\n",
            "Df Model:                          14                                         \n",
            "Covariance Type:            nonrobust                                         \n",
            "======================================================================================================\n",
            "                                         coef    std err          t      P>|t|      [0.025      0.975]\n",
            "------------------------------------------------------------------------------------------------------\n",
            "const                                 69.7812      0.161    433.411      0.000      69.465      70.097\n",
            "incidents_hiv_normed               -1509.4946     82.747    -18.242      0.000   -1671.763   -1347.227\n",
            "thinness_ten_nineteen_years_normed  -482.4892     45.423    -10.622      0.000    -571.563    -393.415\n",
            "schooling_normed                     445.2132     73.617      6.048      0.000     300.849     589.578\n",
            "economy_status_developed_normed    -5359.8643   2377.713     -2.254      0.024      -1e+04    -697.154\n",
            "adult_mortality_pt                    -6.8993      0.110    -62.500      0.000      -7.116      -6.683\n",
            "alcohol_consumption_pt                 1.3985      0.071     19.810      0.000       1.260       1.537\n",
            "hepatitis_b_pt                         0.1567      0.087      1.809      0.071      -0.013       0.327\n",
            "measles_pt                            -0.1153      0.069     -1.667      0.096      -0.251       0.020\n",
            "polio_pt                               1.0870      0.100     10.876      0.000       0.891       1.283\n",
            "incidents_hiv_pt                      -0.7231      0.089     -8.091      0.000      -0.898      -0.548\n",
            "population_mln_pt                      0.1256      0.059      2.121      0.034       0.009       0.242\n",
            "thinness_five_nine_years_pt            0.3616      0.086      4.187      0.000       0.192       0.531\n",
            "gdp_per_capita                     -2.952e-05   4.99e-06     -5.920      0.000   -3.93e-05   -1.97e-05\n",
            "population_mln                         0.0006      0.000      1.409      0.159      -0.000       0.001\n",
            "==============================================================================\n",
            "Omnibus:                      176.388   Durbin-Watson:                   1.994\n",
            "Prob(Omnibus):                  0.000   Jarque-Bera (JB):              277.922\n",
            "Skew:                          -0.590   Prob(JB):                     4.47e-61\n",
            "Kurtosis:                       4.232   Cond. No.                     9.72e+08\n",
            "==============================================================================\n",
            "\n",
            "Notes:\n",
            "[1] Standard Errors assume that the covariance matrix of the errors is correctly specified.\n",
            "[2] The condition number is large, 9.72e+08. This might indicate that there are\n",
            "strong multicollinearity or other numerical problems.\n",
            "RMSE value of 2.4067560975670155\n"
          ]
        },
        {
          "name": "stderr",
          "output_type": "stream",
          "text": [
            "C:\\Users\\James\\anaconda3\\lib\\site-packages\\statsmodels\\tsa\\tsatools.py:142: FutureWarning: In a future version of pandas all arguments of concat except for the argument 'objs' will be keyword-only.\n",
            "  x = pd.concat(x[::order], 1)\n"
          ]
        }
      ],
      "source": [
        "# calling the function\n",
        "\n",
        "vif_testing()\n"
      ],
      "metadata": {
        "ExecuteTime": {
          "end_time": "2023-07-10T14:29:58.667700300Z",
          "start_time": "2023-07-10T14:28:39.176016Z"
        },
        "id": "Ujh3EAMN7T78",
        "outputId": "5f363424-9033-4800-dbe8-2092c848af9f"
      }
    },
    {
      "cell_type": "code",
      "execution_count": null,
      "outputs": [],
      "source": [
        "df = pd.read_csv(\"sample_data/Life_Expectancy_Data_Updated.csv\")\n",
        "\n",
        "features = [ 'under_five_deaths', 'alcohol_consumption', 'incidents_hiv', 'population_mln', 'economy_status_developed']\n",
        "\n",
        "rmse_dict = {'empty' : 0}\n",
        "\n",
        "print(rmse_dict)\n",
        "for feature_dropped in features:\n",
        "\n",
        "    print(f\"Drop: {feature_dropped}\")\n",
        "    df_clean = cleaning(df)\n",
        "\n",
        "    X = df_clean[features].drop(columns=feature_dropped).copy()\n",
        "    y = df_clean['life_expectancy']\n",
        "\n",
        "    X_train, X_test, y_train, y_test = train_test_split(X,y,test_size = 0.2, random_state = 63)\n",
        "\n",
        "\n",
        "    X_train_fe = X_train\n",
        "    X_train_fe = sm.add_constant(X_train_fe)\n",
        "\n",
        "    lin_reg = sm.OLS(y_train, X_train_fe)\n",
        "    model = lin_reg.fit()\n",
        "    y_pred = model.predict(X_train_fe)\n",
        "    rmse = statsmodels.tools.eval_measures.rmse(y_train, y_pred)\n",
        "    print(f\"RMSE value of {rmse}\")\n",
        "\n",
        "    rmse_dict[feature_dropped] = rmse\n",
        "\n",
        "\n",
        "print(rmse_dict)"
      ],
      "metadata": {
        "id": "UerWyNTQ7T78"
      }
    },
    {
      "cell_type": "markdown",
      "source": [
        "## Streamlining the model"
      ],
      "metadata": {
        "collapsed": false,
        "id": "OkTBSF1b7T78"
      }
    },
    {
      "cell_type": "code",
      "execution_count": null,
      "outputs": [],
      "source": [
        "def power_transform(df, scale_columns = ['adult_mortality','polio','incidents_hiv','thinness_five_nine_years','alcohol_consumption','measles']):\n",
        "\n",
        "    pt = PowerTransformer()\n",
        "\n",
        "    #probaby not necessary\n",
        "    scale_columns = [col for col in scale_columns if col in ['adult_mortality','polio','incidents_hiv','thinness_five_nine_years','alcohol_consumption','measles']]\n",
        "\n",
        "    pt_columns = df[scale_columns].copy()\n",
        "\n",
        "    df.drop(columns=scale_columns, inplace=True)\n",
        "\n",
        "    pt.fit(pt_columns)\n",
        "\n",
        "    df_scaled_pt = pd.DataFrame(pt.transform(pt_columns), columns=[col + '_pt' for col in pt_columns.columns])\n",
        "\n",
        "    df_scaled_pt['index'] = df.index\n",
        "\n",
        "\n",
        "    df_scaled_pt = df_scaled_pt.join(df, on='index')\n",
        "    df_scaled_pt.set_index('index', inplace=True)\n",
        "\n",
        "    return df_scaled_pt"
      ],
      "metadata": {
        "ExecuteTime": {
          "end_time": "2023-07-10T14:30:03.433730600Z",
          "start_time": "2023-07-10T14:30:03.412516800Z"
        },
        "id": "ul5KCkqm7T79"
      }
    },
    {
      "cell_type": "code",
      "execution_count": null,
      "outputs": [],
      "source": [
        "def normaliser(df, scale_columns = ['thinness_ten_nineteen_years', 'schooling']):\n",
        "    normalizer = Normalizer()\n",
        "\n",
        "    #probably not necessary\n",
        "    scale_columns = [col for col in scale_columns if col in ['thinness_ten_nineteen_years', 'schooling']]\n",
        "\n",
        "    norm_cols = df[scale_columns].copy()\n",
        "\n",
        "    df.drop(columns=scale_columns, inplace=True)\n",
        "\n",
        "    normalizer.fit(norm_cols)\n",
        "    df_norm_scale = pd.DataFrame(normalizer.transform(norm_cols), columns=[columns + '_normed' for columns in norm_cols.columns])\n",
        "\n",
        "    df_norm_scale['index'] = df.index\n",
        "\n",
        "    df_norm_scale = df_norm_scale.join(df, on='index')\n",
        "    df_norm_scale.set_index('index', inplace=True)\n",
        "\n",
        "    return df_norm_scale"
      ],
      "metadata": {
        "ExecuteTime": {
          "end_time": "2023-07-10T14:30:03.964042900Z",
          "start_time": "2023-07-10T14:30:03.937059800Z"
        },
        "id": "H5xisiky7T79"
      }
    },
    {
      "cell_type": "code",
      "execution_count": null,
      "outputs": [],
      "source": [
        "def cleaning_detailed(df):\n",
        "\n",
        "    # Making all columns be formatted the same (stripped, lowercase, spacing, underscores in the middle)\n",
        "    clean_cols = list(df.columns)\n",
        "    new_cols = []\n",
        "    for col in clean_cols:\n",
        "        new_cols.append(col.strip().replace('  ', ' ').replace(' ', '').lower())\n",
        "    df.columns = new_cols\n",
        "\n",
        "    return df"
      ],
      "metadata": {
        "ExecuteTime": {
          "end_time": "2023-07-10T14:30:04.754547200Z",
          "start_time": "2023-07-10T14:30:04.729614900Z"
        },
        "id": "IuyMhAiu7T79"
      }
    },
    {
      "cell_type": "code",
      "execution_count": null,
      "outputs": [],
      "source": [
        "def detailed_model():\n",
        "\n",
        "    features = ['adult_mortality', 'alcohol_consumption', 'measles',\n",
        "                'polio', 'incidents_hiv',\n",
        "                'thinness_ten_nineteen_years',\n",
        "                'thinness_five_nine_years', 'schooling', 'economy_status_developed']\n",
        "\n",
        "    df = pd.read_csv('Life-Expectancy-Data-Updated.csv')\n",
        "\n",
        "    df_clean = cleaning_detailed(df)\n",
        "\n",
        "    X = df[features]\n",
        "    y = df['life_expectancy']\n",
        "\n",
        "    X_train, X_test, y_train, y_test = train_test_split(X,y,test_size = 0.2, random_state = 63)\n",
        "\n",
        "    X_train_clean = cleaning_detailed(X_train)\n",
        "    X_test_clean = cleaning_detailed(X_test)\n",
        "\n",
        "    #transform training data\n",
        "    X_train_fe = power_transform(X_train_clean)\n",
        "    X_train_fe = normaliser(X_train_fe)\n",
        "\n",
        "    #transform testing data\n",
        "    X_test_fe = power_transform(X_test_clean)\n",
        "    X_test_fe = normaliser(X_test_fe)\n",
        "\n",
        "    X_train_fe = sm.add_constant(X_train_fe)\n",
        "    X_test_fe = sm.add_constant(X_test_fe)\n",
        "\n",
        "    lin_reg = sm.OLS(y_train, X_train_fe)\n",
        "    model = lin_reg.fit()\n",
        "    print(model.summary())\n",
        "    y_pred = model.predict(X_train_fe)\n",
        "    #\n",
        "    rmse = statsmodels.tools.eval_measures.rmse(y_train, y_pred)\n",
        "    print(f\"RMSE value of {rmse}\")\n",
        "    # test on test?\n",
        "    # #print(X_test_fe.shape)\n",
        "    # y_pred_test = model.predict(X_test_fe)\n",
        "    #\n",
        "    # test_rmse = statsmodels.tools.eval_measures.rmse(y_test, y_pred_test)\n",
        "    #\n",
        "    # print(f\"Test RMSE of {test_rmse}\")\n",
        "\n",
        "    pass"
      ],
      "metadata": {
        "ExecuteTime": {
          "end_time": "2023-07-10T14:30:21.267762600Z",
          "start_time": "2023-07-10T14:30:21.251110300Z"
        },
        "id": "uplzpSG-7T79"
      }
    },
    {
      "cell_type": "code",
      "execution_count": null,
      "outputs": [
        {
          "name": "stdout",
          "output_type": "stream",
          "text": [
            "                            OLS Regression Results                            \n",
            "==============================================================================\n",
            "Dep. Variable:        life_expectancy   R-squared:                       0.932\n",
            "Model:                            OLS   Adj. R-squared:                  0.932\n",
            "Method:                 Least Squares   F-statistic:                     3467.\n",
            "Date:                Mon, 10 Jul 2023   Prob (F-statistic):               0.00\n",
            "Time:                        15:30:22   Log-Likelihood:                -5313.5\n",
            "No. Observations:                2291   AIC:                         1.065e+04\n",
            "Df Residuals:                    2281   BIC:                         1.070e+04\n",
            "Df Model:                           9                                         \n",
            "Covariance Type:            nonrobust                                         \n",
            "======================================================================================================\n",
            "                                         coef    std err          t      P>|t|      [0.025      0.975]\n",
            "------------------------------------------------------------------------------------------------------\n",
            "const                                 67.5263      0.824     81.955      0.000      65.911      69.142\n",
            "thinness_ten_nineteen_years_normed    -3.6574      0.734     -4.981      0.000      -5.097      -2.218\n",
            "schooling_normed                       4.4266      0.655      6.761      0.000       3.143       5.711\n",
            "adult_mortality_pt                    -6.9387      0.090    -76.924      0.000      -7.116      -6.762\n",
            "polio_pt                               0.9332      0.074     12.634      0.000       0.788       1.078\n",
            "incidents_hiv_pt                      -1.2456      0.084    -14.850      0.000      -1.410      -1.081\n",
            "thinness_five_nine_years_pt            1.3779      0.124     11.079      0.000       1.134       1.622\n",
            "alcohol_consumption_pt                 1.2496      0.081     15.472      0.000       1.091       1.408\n",
            "measles_pt                            -0.1747      0.068     -2.565      0.010      -0.308      -0.041\n",
            "economy_status_developed              -1.9238      0.206     -9.344      0.000      -2.328      -1.520\n",
            "==============================================================================\n",
            "Omnibus:                      144.883   Durbin-Watson:                   2.008\n",
            "Prob(Omnibus):                  0.000   Jarque-Bera (JB):              202.260\n",
            "Skew:                          -0.549   Prob(JB):                     1.20e-44\n",
            "Kurtosis:                       3.956   Cond. No.                         43.5\n",
            "==============================================================================\n",
            "\n",
            "Notes:\n",
            "[1] Standard Errors assume that the covariance matrix of the errors is correctly specified.\n",
            "RMSE value of 2.4604954968089467\n"
          ]
        },
        {
          "name": "stderr",
          "output_type": "stream",
          "text": [
            "C:\\Users\\James\\AppData\\Local\\Temp/ipykernel_29704/3110962019.py:10: SettingWithCopyWarning: \n",
            "A value is trying to be set on a copy of a slice from a DataFrame\n",
            "\n",
            "See the caveats in the documentation: https://pandas.pydata.org/pandas-docs/stable/user_guide/indexing.html#returning-a-view-versus-a-copy\n",
            "  df.drop(columns=scale_columns, inplace=True)\n",
            "C:\\Users\\James\\AppData\\Local\\Temp/ipykernel_29704/3110962019.py:10: SettingWithCopyWarning: \n",
            "A value is trying to be set on a copy of a slice from a DataFrame\n",
            "\n",
            "See the caveats in the documentation: https://pandas.pydata.org/pandas-docs/stable/user_guide/indexing.html#returning-a-view-versus-a-copy\n",
            "  df.drop(columns=scale_columns, inplace=True)\n",
            "C:\\Users\\James\\anaconda3\\lib\\site-packages\\statsmodels\\tsa\\tsatools.py:142: FutureWarning: In a future version of pandas all arguments of concat except for the argument 'objs' will be keyword-only.\n",
            "  x = pd.concat(x[::order], 1)\n",
            "C:\\Users\\James\\anaconda3\\lib\\site-packages\\statsmodels\\tsa\\tsatools.py:142: FutureWarning: In a future version of pandas all arguments of concat except for the argument 'objs' will be keyword-only.\n",
            "  x = pd.concat(x[::order], 1)\n"
          ]
        }
      ],
      "source": [
        "detailed_model()"
      ],
      "metadata": {
        "ExecuteTime": {
          "end_time": "2023-07-10T14:30:22.494636900Z",
          "start_time": "2023-07-10T14:30:22.370967400Z"
        },
        "id": "mlCoYIZ17T79",
        "outputId": "71d206bd-df3e-4366-f3a2-ef5814883b22"
      }
    },
    {
      "cell_type": "markdown",
      "source": [
        "## Notes on dropping\n",
        "\n",
        "* population_mln had a  p-value of 0.884 so was removed\n",
        "* hepatitis_b had a p-value of 0.381 so was removed\n",
        "* Condition Number (started at ~500,000)\n",
        "    * gdp_per_capita gave us high condition number in previous tests (removing this feature brought this number down to 43.5)"
      ],
      "metadata": {
        "collapsed": false,
        "id": "kFAkh_oV7T7-"
      }
    }
  ],
  "metadata": {
    "kernelspec": {
      "display_name": "Python 3",
      "language": "python",
      "name": "python3"
    },
    "language_info": {
      "codemirror_mode": {
        "name": "ipython",
        "version": 2
      },
      "file_extension": ".py",
      "mimetype": "text/x-python",
      "name": "python",
      "nbconvert_exporter": "python",
      "pygments_lexer": "ipython2",
      "version": "2.7.6"
    },
    "colab": {
      "provenance": []
    }
  },
  "nbformat": 4,
  "nbformat_minor": 0
}