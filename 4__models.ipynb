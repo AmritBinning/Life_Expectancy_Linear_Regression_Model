{
  "cells": [
    {
      "cell_type": "code",
      "execution_count": null,
      "outputs": [],
      "source": [
        "import pandas as pd\n",
        "import statsmodels.api as sm\n",
        "import statsmodels.tools\n",
        "\n",
        "from sklearn.model_selection import train_test_split\n",
        "from sklearn.preprocessing import PowerTransformer, Normalizer\n"
      ],
      "metadata": {
        "ExecuteTime": {
          "end_time": "2023-07-10T10:02:05.035735300Z",
          "start_time": "2023-07-10T10:02:05.022264300Z"
        },
        "id": "4JFiVwkHUOJV"
      }
    },
    {
      "cell_type": "code",
      "execution_count": null,
      "metadata": {
        "collapsed": true,
        "ExecuteTime": {
          "end_time": "2023-07-10T12:27:32.481115300Z",
          "start_time": "2023-07-10T12:27:32.442220100Z"
        },
        "id": "ACFj8TnCUOJY"
      },
      "outputs": [],
      "source": [
        "## setting out the input features for our model that will be using features that are not considered ethically\n",
        "\n",
        "def input_features_detailed():\n",
        "    # Define the conditions for each feature\n",
        "    conditions = {\n",
        "        #'Year': (lambda x: isinstance(x, int) and 2000 <= x <= 2015, \"Input Values between 2000-2015\"),\n",
        "        #'Infant_deaths': (lambda x: 1 <= x <= 140, \"Input Values between 1-140\"),\n",
        "        #'Under_five_deaths': (lambda x: 2 <= x <= 225, \"Input Values between 2-225\"),\n",
        "        'adult_mortality': (lambda x: 49 <= x <= 720, \"Input Values between 49-720\"),\n",
        "        'alcohol_consumption': (lambda x: 0 <= x <= 18, \"Input Values between 0-18\"),\n",
        "        #'Hepatitis_B': (lambda x: 12 <= x <= 100, \"Input Values between 12-100\"),\n",
        "        'measles': (lambda x: 10 <= x <= 100, \"Input Values between 10-100\"),\n",
        "        #'BMI': (lambda x: 19 <= x <= 33, \"Input Values between 19-33\"),\n",
        "        'polio': (lambda x: 8 <= x <= 100, \"Input Values between 8-100\"),\n",
        "        #'Diphtheria': (lambda x: 16 <= x <= 100, \"Input Values between 16-100\"),\n",
        "        'incidents_hiv': (lambda x: 0 <= x <= 22, \"Input Values between 0-22\"),\n",
        "        #'GDP_per_capita': (lambda x: 10 <= x <= 100, \"Input Values between 10-100\"),\n",
        "        #'Population_mln': (lambda x: 10 <= x <= 100, \"Input Values between 10-100\"),\n",
        "        'thinness_ten_nineteen_years': (lambda x: 0 <= x <= 30, \"Input Values between 0-30\"),\n",
        "        'thinness_five_nine_years': (lambda x: 0 <= x <= 30, \"Input Values between 0-30\"),\n",
        "        'schooling': (lambda x: 1 <= x <= 15, \"Input Values between 1-15\"),\n",
        "        'economy_status_developed': (lambda x: 0 <= x <= 1, \"0 - for undeveloped | 1 for developed\"),\n",
        "        #'Economy_status_Developing': (lambda x: isinstance(x, int) and 0 <= x <= 1, \"0-1\")\n",
        "    }\n",
        "\n",
        "    features = {}  # Dictionary to store the user-input values\n",
        "\n",
        "    for feature, (condition, condition_range) in conditions.items():\n",
        "        while True:\n",
        "            value = input(f\"Enter value for {feature} (between {condition_range}), or enter 'cancel' to stop: \")\n",
        "            if value.lower() == 'cancel':\n",
        "                print(\"Input canceled by the user.\")\n",
        "                return None\n",
        "\n",
        "            try:\n",
        "                value = float(value)\n",
        "                if not condition(value):\n",
        "                    raise ValueError(\"Invalid value!\")\n",
        "                features[feature] = value\n",
        "                break\n",
        "            except ValueError:\n",
        "                print(\"Invalid value! Try again or enter 'cancel' to get out of the loop\")\n",
        "\n",
        "    return pd.DataFrame([features])\n"
      ]
    },
    {
      "cell_type": "code",
      "execution_count": null,
      "outputs": [],
      "source": [
        "## setting out the input features for our model that will be using features that are ethically\n",
        "\n",
        "def input_features_simple():\n",
        "    # Define the conditions for each feature\n",
        "    conditions = {\n",
        "        #'Year': (lambda x: isinstance(x, int) and 2000 <= x <= 2015, \"Input Values between 2000-2015\"),\n",
        "        #'Infant_deaths': (lambda x: 1 <= x <= 140, \"Input Values between 1-140\"),\n",
        "        #'Under_five_deaths': (lambda x: 2 <= x <= 225, \"Input Values between 2-225\"),\n",
        "        'adult_mortality': (lambda x: 49 <= x <= 720, \"Input Values between 49-720\"),\n",
        "        'alcohol_consumption': (lambda x: 0 <= x <= 18, \"Input Values between 0-18\"),\n",
        "        #'Hepatitis_B': (lambda x: 12 <= x <= 100, \"Input Values between 12-100\"),\n",
        "        #'measles': (lambda x: 10 <= x <= 100, \"Input Values between 10-100\"),\n",
        "        #'BMI': (lambda x: 19 <= x <= 33, \"Input Values between 19-33\"),\n",
        "        #'polio': (lambda x: 8 <= x <= 100, \"Input Values between 8-100\"),\n",
        "        #'Diphtheria': (lambda x: 16 <= x <= 100, \"Input Values between 16-100\"),\n",
        "        #'incidents_hiv': (lambda x: 0 <= x <= 22, \"Input Values between 0-22\"),\n",
        "        #'GDP_per_capita': (lambda x: 10 <= x <= 100, \"Input Values between 10-100\"),\n",
        "        #'Population_mln': (lambda x: 10 <= x <= 100, \"Input Values between 10-100\"),\n",
        "        #'thinness_ten_nineteen_years': (lambda x: 0 <= x <= 30, \"Input Values between 0-30\"),\n",
        "        #'thinness_five_nine_years': (lambda x: 0 <= x <= 30, \"Input Values between 0-30\"),\n",
        "        'schooling': (lambda x: 1 <= x <= 15, \"Input Values between 1-15\"),\n",
        "        'economy_status_developed': (lambda x: isinstance(x, float) and 0 <= x <= 1, \"0 - for undeveloped | 1 for developed\"),\n",
        "        #'Economy_status_Developing': (lambda x: isinstance(x, int) and 0 <= x <= 1, \"0-1\")\n",
        "    }\n",
        "\n",
        "    features = {}  # Dictionary to store the user-input values\n",
        "\n",
        "    for feature, (condition, condition_range) in conditions.items():\n",
        "        while True:\n",
        "            value = input(f\"Enter value for {feature} (between {condition_range}), or enter 'cancel' to stop: \")\n",
        "            if value.lower() == 'cancel':\n",
        "                print(\"Input canceled by the user.\")\n",
        "                return None\n",
        "\n",
        "            try:\n",
        "                value = float(value)\n",
        "                if not condition(value):\n",
        "                    raise ValueError(\"Invalid value!\")\n",
        "                features[feature] = value\n",
        "                break\n",
        "            except ValueError:\n",
        "                print(\"Invalid value! Try again or enter 'cancel' to get out of the loop\")\n",
        "\n",
        "    return pd.DataFrame([features])\n"
      ],
      "metadata": {
        "ExecuteTime": {
          "end_time": "2023-07-10T12:27:32.912447500Z",
          "start_time": "2023-07-10T12:27:32.883524Z"
        },
        "id": "6ibCaRyFUOJZ"
      }
    },
    {
      "cell_type": "code",
      "execution_count": null,
      "outputs": [],
      "source": [
        "# applying scaling to columns we will be using\n",
        "\n",
        "def power_transform(train,test,input, scale_columns = ['adult_mortality','polio','incidents_hiv','thinness_five_nine_years','alcohol_consumption','measles']):\n",
        "\n",
        "    pt = PowerTransformer()\n",
        "\n",
        "\n",
        "    train_columns = train[scale_columns].copy()\n",
        "    test_columns = test[scale_columns].copy()\n",
        "    input_columns = input[scale_columns].copy()\n",
        "\n",
        "    train.drop(columns=scale_columns, inplace=True)\n",
        "    test.drop(columns=scale_columns, inplace=True)\n",
        "    input.drop(columns=scale_columns, inplace=True)\n",
        "\n",
        "\n",
        "    pt.fit(train_columns)\n",
        "\n",
        "    train_scaled = pd.DataFrame(pt.transform(train_columns), columns=[col + '_pt' for col in scale_columns])\n",
        "    train_scaled['index'] = train.index\n",
        "    train_return = train_scaled.join(train, on='index')\n",
        "    train_return.set_index('index', inplace=True)\n",
        "\n",
        "    test_scaled = pd.DataFrame(pt.transform(test_columns), columns=[col + '_pt' for col in scale_columns])\n",
        "    test_scaled['index'] = test.index\n",
        "    test_return = test_scaled.join(test, on='index')\n",
        "    test_return.set_index('index', inplace=True)\n",
        "\n",
        "    input_scaled = pd.DataFrame(pt.transform(input_columns), columns=[col + '_pt' for col in scale_columns])\n",
        "    input_scaled['index'] = input.index\n",
        "    input_return = input_scaled.join(input, on='index')\n",
        "    input_return.set_index('index', inplace=True)\n",
        "\n",
        "\n",
        "    return train_return, test_return, input_return"
      ],
      "metadata": {
        "ExecuteTime": {
          "end_time": "2023-07-10T10:56:15.513342400Z",
          "start_time": "2023-07-10T10:56:15.491402500Z"
        },
        "id": "FXl26PEcUOJa"
      }
    },
    {
      "cell_type": "code",
      "execution_count": null,
      "outputs": [],
      "source": [
        "# applying scaling to columns we will be using\n",
        "\n",
        "def normaliser(train,test,input, scale_columns = ['thinness_ten_nineteen_years', 'schooling']):\n",
        "\n",
        "    norm = Normalizer()\n",
        "\n",
        "\n",
        "    train_columns = train[scale_columns].copy()\n",
        "    test_columns = test[scale_columns].copy()\n",
        "    input_columns = input[scale_columns].copy()\n",
        "\n",
        "    train.drop(columns=scale_columns, inplace=True)\n",
        "    test.drop(columns=scale_columns, inplace=True)\n",
        "    input.drop(columns=scale_columns, inplace=True)\n",
        "\n",
        "    print(train_columns)\n",
        "    norm.fit(train_columns)\n",
        "\n",
        "    train_scaled = pd.DataFrame(norm.transform(train_columns), columns=[col + '_norm' for col in scale_columns])\n",
        "    print(train_scaled)\n",
        "    train_scaled['index'] = train.index\n",
        "    train_return = train_scaled.join(train, on='index')\n",
        "    train_return.set_index('index', inplace=True)\n",
        "\n",
        "    print(type(train_return))\n",
        "\n",
        "    test_scaled = pd.DataFrame(norm.transform(test_columns), columns=[col + '_norm' for col in scale_columns])\n",
        "    test_scaled['index'] = test.index\n",
        "    print(test_scaled)\n",
        "    test_return = test_scaled.join(test, on='index')\n",
        "    test_return.set_index('index', inplace=True)\n",
        "\n",
        "    input_scaled = pd.DataFrame(norm.transform(input_columns), columns=[col + '_norm' for col in scale_columns])\n",
        "    input_scaled['index'] = input.index\n",
        "    input_return = input_scaled.join(input, on='index')\n",
        "    input_return.set_index('index', inplace=True)\n",
        "\n",
        "\n",
        "    return train_return, test_return, input_return"
      ],
      "metadata": {
        "ExecuteTime": {
          "end_time": "2023-07-10T11:04:28.771567800Z",
          "start_time": "2023-07-10T11:04:28.760597800Z"
        },
        "id": "dZa0Wn_OUOJa"
      }
    },
    {
      "cell_type": "code",
      "execution_count": null,
      "outputs": [],
      "source": [
        "def cleaning(df):\n",
        "\n",
        "    # Making all columns be formatted the same (stripped, lowercase, spacing, underscores in the middle)\n",
        "    clean_cols = list(df.columns)\n",
        "    new_cols = []\n",
        "    for col in clean_cols:\n",
        "        new_cols.append(col.strip().replace('  ', ' ').replace(' ', '').lower())\n",
        "    df.columns = new_cols\n",
        "\n",
        "    return df"
      ],
      "metadata": {
        "ExecuteTime": {
          "end_time": "2023-07-10T10:56:16.269867400Z",
          "start_time": "2023-07-10T10:56:16.250916800Z"
        },
        "id": "_a4osuj4UOJb"
      }
    },
    {
      "cell_type": "code",
      "execution_count": null,
      "outputs": [],
      "source": [
        "# our deatiled model\n",
        "\n",
        "def detailed_model():\n",
        "\n",
        "    features = ['adult_mortality', 'alcohol_consumption', 'measles', 'polio', 'incidents_hiv', 'thinness_ten_nineteen_years', 'thinness_five_nine_years', 'schooling', 'economy_status_developed']\n",
        "\n",
        "    #take inputs and convert them to a dataframe\n",
        "    input_df = input_features_detailed()\n",
        "\n",
        "    df = pd.read_csv('sample_data/Life_Expectancy_Data_Updated.csv')\n",
        "\n",
        "\n",
        "    df_clean = cleaning(df)\n",
        "\n",
        "    X = df_clean[features]\n",
        "    y = df_clean['life_expectancy']\n",
        "\n",
        "    X_train, X_test, y_train, y_test = train_test_split(X,y,test_size = 0.2, random_state = 63)\n",
        "\n",
        "    #transform training data\n",
        "    X_train_fe, X_test_fe, input_fe = power_transform(X_train, X_test, input_df )\n",
        "\n",
        "\n",
        "    X_train_fe, X_test_fe, input_fe = normaliser(X_train_fe, X_test_fe, input_fe)\n",
        "\n",
        "    X_train_fe = sm.add_constant(X_train_fe)\n",
        "    X_test_fe = sm.add_constant(X_test_fe)\n",
        "    input_fe = sm.add_constant(input_fe, has_constant='add')\n",
        "\n",
        "    lin_reg = sm.OLS(y_train, X_train_fe)\n",
        "    model = lin_reg.fit()\n",
        "\n",
        "    #uncomment below to see summary statistics of model\n",
        "    #print(model.summary())\n",
        "\n",
        "    y_pred_test = model.predict(X_test_fe)\n",
        "\n",
        "    test_rmse = statsmodels.tools.eval_measures.rmse(y_test, y_pred_test)\n",
        "\n",
        "\n",
        "    #predict on inputs\n",
        "    input_pred = model.predict(input_fe)\n",
        "\n",
        "    print(f\"Predicted life expectancy of {input_pred} years\")\n",
        "    print(f\"RMSE value of {test_rmse}\")\n",
        "\n",
        "    pass"
      ],
      "metadata": {
        "ExecuteTime": {
          "end_time": "2023-07-10T13:28:16.957264800Z",
          "start_time": "2023-07-10T13:28:16.930340500Z"
        },
        "id": "i-ReFLNvUOJb"
      }
    },
    {
      "cell_type": "code",
      "execution_count": null,
      "outputs": [],
      "source": [
        "# calling the deatiled model function\n",
        "\n",
        "detailed_model()"
      ],
      "metadata": {
        "ExecuteTime": {
          "end_time": "2023-07-10T11:08:27.790190200Z",
          "start_time": "2023-07-10T11:08:16.416059500Z"
        },
        "id": "hzQgMfhDUOJc"
      }
    },
    {
      "cell_type": "code",
      "execution_count": null,
      "outputs": [],
      "source": [
        "# creating a simple fucntion that does not include columns that are considered unethical\n",
        "\n",
        "def simple_model():\n",
        "\n",
        "    features = ['adult_mortality','schooling','alcohol_consumption', 'economy_status_developed']\n",
        "\n",
        "    #take inputs and convert them to a dataframe\n",
        "    input_df = input_features_simple()\n",
        "\n",
        "    df = pd.read_csv('Life-Expectancy-Data-Updated.csv')\n",
        "\n",
        "\n",
        "    df_clean = cleaning(df)\n",
        "\n",
        "    X = df_clean[features]\n",
        "    y = df_clean['life_expectancy']\n",
        "\n",
        "    X_train, X_test, y_train, y_test = train_test_split(X,y,test_size = 0.2, random_state = 63)\n",
        "\n",
        "    #transform training data\n",
        "    X_train_fe, X_test_fe, input_fe = power_transform(X_train, X_test, input_df, scale_columns=['adult_mortality', 'alcohol_consumption'] )\n",
        "\n",
        "\n",
        "    X_train_fe = sm.add_constant(X_train_fe)\n",
        "    X_test_fe = sm.add_constant(X_test_fe)\n",
        "    input_fe = sm.add_constant(input_fe, has_constant='add')\n",
        "\n",
        "\n",
        "\n",
        "    lin_reg = sm.OLS(y_train, X_train_fe)\n",
        "    model = lin_reg.fit()\n",
        "\n",
        "    #uncomment below to see summary statistics of the model\n",
        "    #print(model.summary()) --\n",
        "    y_pred = model.predict(X_train_fe)\n",
        "    #\n",
        "\n",
        "    y_pred_test = model.predict(X_test_fe)\n",
        "\n",
        "    test_rmse = statsmodels.tools.eval_measures.rmse(y_test, y_pred_test)\n",
        "\n",
        "    #predict on inputs\n",
        "    input_pred = model.predict(input_fe)\n",
        "\n",
        "    print(f\"Predicted life expectancy of {input_pred} years\")\n",
        "    print(f\"RMSE of {test_rmse}\")\n",
        "\n",
        "    pass"
      ],
      "metadata": {
        "ExecuteTime": {
          "end_time": "2023-07-10T13:30:13.713315600Z",
          "start_time": "2023-07-10T13:30:13.700352Z"
        },
        "id": "-jl1vkurUOJe"
      }
    },
    {
      "cell_type": "code",
      "execution_count": null,
      "outputs": [],
      "source": [
        "# calling simple model\n",
        "\n",
        "simple_model()"
      ],
      "metadata": {
        "ExecuteTime": {
          "end_time": "2023-07-10T13:30:21.911395100Z",
          "start_time": "2023-07-10T13:30:14.386163600Z"
        },
        "id": "A03OW83RUOJf"
      }
    },
    {
      "cell_type": "code",
      "execution_count": null,
      "outputs": [],
      "source": [
        "# creating a main overview function that takes an input whether the user wants to use ethical or unethical columns, in turn the respective model will be called\n",
        "\n",
        "def main():\n",
        "\n",
        "    valid = False\n",
        "    while not valid:\n",
        "        choice = input(\"Would you like to use protected data (Yes/No): \")\n",
        "\n",
        "        if choice.lower() in ['yes','no']:\n",
        "            valid = True\n",
        "        #else:\n",
        "        #input incorrect prompt\n",
        "\n",
        "    if choice.lower() == 'no':\n",
        "        simple_model()\n",
        "    else:\n",
        "        detailed_model()\n",
        "\n",
        "    pass"
      ],
      "metadata": {
        "ExecuteTime": {
          "end_time": "2023-07-10T12:27:41.744925Z",
          "start_time": "2023-07-10T12:27:41.729967100Z"
        },
        "id": "mZQPkSDTUOJf"
      }
    },
    {
      "cell_type": "code",
      "execution_count": null,
      "outputs": [
        {
          "name": "stdout",
          "output_type": "stream",
          "text": [
            "Predicted life expectancy of index\n",
            "0    73.686899\n",
            "dtype: float64 years\n",
            "RMSE of 2.8561936548662885\n"
          ]
        },
        {
          "name": "stderr",
          "output_type": "stream",
          "text": [
            "C:\\Users\\James\\AppData\\Local\\Temp/ipykernel_17244/3366518853.py:10: SettingWithCopyWarning: \n",
            "A value is trying to be set on a copy of a slice from a DataFrame\n",
            "\n",
            "See the caveats in the documentation: https://pandas.pydata.org/pandas-docs/stable/user_guide/indexing.html#returning-a-view-versus-a-copy\n",
            "  train.drop(columns=scale_columns, inplace=True)\n",
            "C:\\Users\\James\\AppData\\Local\\Temp/ipykernel_17244/3366518853.py:11: SettingWithCopyWarning: \n",
            "A value is trying to be set on a copy of a slice from a DataFrame\n",
            "\n",
            "See the caveats in the documentation: https://pandas.pydata.org/pandas-docs/stable/user_guide/indexing.html#returning-a-view-versus-a-copy\n",
            "  test.drop(columns=scale_columns, inplace=True)\n",
            "C:\\Users\\James\\anaconda3\\lib\\site-packages\\statsmodels\\tsa\\tsatools.py:142: FutureWarning: In a future version of pandas all arguments of concat except for the argument 'objs' will be keyword-only.\n",
            "  x = pd.concat(x[::order], 1)\n",
            "C:\\Users\\James\\anaconda3\\lib\\site-packages\\statsmodels\\tsa\\tsatools.py:142: FutureWarning: In a future version of pandas all arguments of concat except for the argument 'objs' will be keyword-only.\n",
            "  x = pd.concat(x[::order], 1)\n",
            "C:\\Users\\James\\anaconda3\\lib\\site-packages\\statsmodels\\tsa\\tsatools.py:142: FutureWarning: In a future version of pandas all arguments of concat except for the argument 'objs' will be keyword-only.\n",
            "  x = pd.concat(x[::order], 1)\n"
          ]
        }
      ],
      "source": [
        "main()"
      ],
      "metadata": {
        "ExecuteTime": {
          "end_time": "2023-07-10T13:56:21.948991500Z",
          "start_time": "2023-07-10T13:56:06.838616300Z"
        },
        "id": "If8fgJHKUOJf",
        "outputId": "8eed261e-c42c-4f9e-dfe3-de7cd75af942"
      }
    }
  ],
  "metadata": {
    "kernelspec": {
      "display_name": "Python 3",
      "language": "python",
      "name": "python3"
    },
    "language_info": {
      "codemirror_mode": {
        "name": "ipython",
        "version": 2
      },
      "file_extension": ".py",
      "mimetype": "text/x-python",
      "name": "python",
      "nbconvert_exporter": "python",
      "pygments_lexer": "ipython2",
      "version": "2.7.6"
    },
    "colab": {
      "provenance": []
    }
  },
  "nbformat": 4,
  "nbformat_minor": 0
}